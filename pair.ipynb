{
 "cells": [
  {
   "cell_type": "code",
   "execution_count": 1,
   "id": "6f858bd1",
   "metadata": {},
   "outputs": [
    {
     "data": {
      "text/plain": [
       "[(6, 4), (1, 9), (7, 3)]"
      ]
     },
     "execution_count": 1,
     "metadata": {},
     "output_type": "execute_result"
    }
   ],
   "source": [
    "def find_pairs_with_sum(arr, target_sum):\n",
    "    seen = set()\n",
    "    pairs = []\n",
    "    \n",
    "    for num in arr:\n",
    "        difference = target_sum - num\n",
    "        if difference in seen:\n",
    "            pairs.append((num, difference))\n",
    "        seen.add(num)\n",
    "    \n",
    "    return pairs\n",
    "\n",
    "arr = [2, 4, 3, 6, 9, 1, 7]\n",
    "target_sum = 10\n",
    "result = find_pairs_with_sum(arr, target_sum)\n",
    "result\n"
   ]
  },
  {
   "cell_type": "code",
   "execution_count": null,
   "id": "b526a8ce",
   "metadata": {},
   "outputs": [],
   "source": []
  }
 ],
 "metadata": {
  "kernelspec": {
   "display_name": "Python 3 (ipykernel)",
   "language": "python",
   "name": "python3"
  },
  "language_info": {
   "codemirror_mode": {
    "name": "ipython",
    "version": 3
   },
   "file_extension": ".py",
   "mimetype": "text/x-python",
   "name": "python",
   "nbconvert_exporter": "python",
   "pygments_lexer": "ipython3",
   "version": "3.11.4"
  }
 },
 "nbformat": 4,
 "nbformat_minor": 5
}
